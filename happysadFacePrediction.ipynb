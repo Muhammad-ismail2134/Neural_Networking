{
  "nbformat": 4,
  "nbformat_minor": 0,
  "metadata": {
    "colab": {
      "provenance": [],
      "mount_file_id": "1Uh12U_4m2eseRsC9T6AlAQVyCTYMZkWQ",
      "authorship_tag": "ABX9TyOqfKeIqrSza151Lpx/eoXa",
      "include_colab_link": true
    },
    "kernelspec": {
      "name": "python3",
      "display_name": "Python 3"
    },
    "language_info": {
      "name": "python"
    }
  },
  "cells": [
    {
      "cell_type": "markdown",
      "metadata": {
        "id": "view-in-github",
        "colab_type": "text"
      },
      "source": [
        "<a href=\"https://colab.research.google.com/github/Muhammad-ismail2134/Neural_Networking/blob/main/happysadFacePrediction.ipynb\" target=\"_parent\"><img src=\"https://colab.research.google.com/assets/colab-badge.svg\" alt=\"Open In Colab\"/></a>"
      ]
    },
    {
      "cell_type": "code",
      "execution_count": 1,
      "metadata": {
        "id": "U_c1QBgbgTsn"
      },
      "outputs": [],
      "source": [
        "\n",
        "import matplotlib.pyplot as plt\n",
        "import tensorflow as tf\n",
        "import numpy as np\n",
        "import os"
      ]
    },
    {
      "cell_type": "code",
      "source": [
        "!pip install kaggle"
      ],
      "metadata": {
        "colab": {
          "base_uri": "https://localhost:8080/"
        },
        "id": "EebxXuN4wjt8",
        "outputId": "a5c18809-217c-4c44-b543-198d2bfde00c"
      },
      "execution_count": 2,
      "outputs": [
        {
          "output_type": "stream",
          "name": "stdout",
          "text": [
            "Requirement already satisfied: kaggle in /usr/local/lib/python3.10/dist-packages (1.5.15)\n",
            "Requirement already satisfied: six>=1.10 in /usr/local/lib/python3.10/dist-packages (from kaggle) (1.16.0)\n",
            "Requirement already satisfied: certifi in /usr/local/lib/python3.10/dist-packages (from kaggle) (2023.5.7)\n",
            "Requirement already satisfied: python-dateutil in /usr/local/lib/python3.10/dist-packages (from kaggle) (2.8.2)\n",
            "Requirement already satisfied: requests in /usr/local/lib/python3.10/dist-packages (from kaggle) (2.27.1)\n",
            "Requirement already satisfied: tqdm in /usr/local/lib/python3.10/dist-packages (from kaggle) (4.65.0)\n",
            "Requirement already satisfied: python-slugify in /usr/local/lib/python3.10/dist-packages (from kaggle) (8.0.1)\n",
            "Requirement already satisfied: urllib3 in /usr/local/lib/python3.10/dist-packages (from kaggle) (1.26.16)\n",
            "Requirement already satisfied: bleach in /usr/local/lib/python3.10/dist-packages (from kaggle) (6.0.0)\n",
            "Requirement already satisfied: webencodings in /usr/local/lib/python3.10/dist-packages (from bleach->kaggle) (0.5.1)\n",
            "Requirement already satisfied: text-unidecode>=1.3 in /usr/local/lib/python3.10/dist-packages (from python-slugify->kaggle) (1.3)\n",
            "Requirement already satisfied: charset-normalizer~=2.0.0 in /usr/local/lib/python3.10/dist-packages (from requests->kaggle) (2.0.12)\n",
            "Requirement already satisfied: idna<4,>=2.5 in /usr/local/lib/python3.10/dist-packages (from requests->kaggle) (3.4)\n"
          ]
        }
      ]
    },
    {
      "cell_type": "code",
      "source": [
        "!cp /content/drive/MyDrive/kaggle.json ~/.kaggle/kaggle.json"
      ],
      "metadata": {
        "id": "KGv71wM41UY2"
      },
      "execution_count": 3,
      "outputs": []
    },
    {
      "cell_type": "code",
      "source": [
        "!kaggle datasets download -d astraszab/facial-expression-dataset-image-folders-fer2013"
      ],
      "metadata": {
        "colab": {
          "base_uri": "https://localhost:8080/"
        },
        "id": "OKGylrdl2vrW",
        "outputId": "66f21650-cd23-41b9-8fe4-acf0e157c60f"
      },
      "execution_count": 4,
      "outputs": [
        {
          "output_type": "stream",
          "name": "stdout",
          "text": [
            "facial-expression-dataset-image-folders-fer2013.zip: Skipping, found more recently modified local copy (use --force to force download)\n"
          ]
        }
      ]
    },
    {
      "cell_type": "code",
      "source": [
        "import zipfile\n",
        "\n",
        "#Unzipping training data\n",
        "local_zip = './facial-expression-dataset-image-folders-fer2013.zip'\n",
        "zip_ref = zipfile.ZipFile(local_zip, 'r')\n",
        "zip_ref.extractall('./facial-expression-dataset')"
      ],
      "metadata": {
        "id": "GZymGo6d3QY_"
      },
      "execution_count": 5,
      "outputs": []
    },
    {
      "cell_type": "code",
      "source": [
        "import os\n",
        "\n",
        "# Directory of train angry data\n",
        "train_angry_dir = os.path.join('./facial-expression-dataset/data/train/0')\n",
        "train_angry_names = os.listdir(train_angry_dir)\n",
        "print(f'TRAIN SET HORSES: {train_angry_names[:10]}')\n"
      ],
      "metadata": {
        "colab": {
          "base_uri": "https://localhost:8080/"
        },
        "id": "KNdYloMG4JSo",
        "outputId": "fd1a687d-74dd-4a35-bd29-53da503a3025"
      },
      "execution_count": 6,
      "outputs": [
        {
          "output_type": "stream",
          "name": "stdout",
          "text": [
            "TRAIN SET HORSES: ['263.png', '6573.png', '3815.png', '5403.png', '15068.png', '22072.png', '13210.png', '6426.png', '24250.png', '18161.png']\n"
          ]
        }
      ]
    },
    {
      "cell_type": "code",
      "source": [
        "print(f'total training horse images: {len(os.listdir(train_angry_dir))}')\n"
      ],
      "metadata": {
        "colab": {
          "base_uri": "https://localhost:8080/"
        },
        "id": "N8_jau9M5Hlv",
        "outputId": "07cf0261-e69d-45ce-ddd3-c82c68704bf4"
      },
      "execution_count": 7,
      "outputs": [
        {
          "output_type": "stream",
          "name": "stdout",
          "text": [
            "total training horse images: 3995\n"
          ]
        }
      ]
    },
    {
      "cell_type": "code",
      "source": [
        "%matplotlib inline\n",
        "\n",
        "import matplotlib.pyplot as plt\n",
        "import matplotlib.image as mpimg\n",
        "\n",
        "# Parameters for our graph; we'll output images in a 4x4 configuration\n",
        "nrows = 8\n",
        "ncols = 8\n",
        "\n",
        "# Index for iterating over images\n",
        "pic_index = 0"
      ],
      "metadata": {
        "id": "MRsEROV65Ncm"
      },
      "execution_count": 8,
      "outputs": []
    },
    {
      "cell_type": "code",
      "source": [
        "import cv2\n",
        "\n",
        "# Load the image using OpenCV\n",
        "image = cv2.imread(\"./facial-expression-dataset/data/train/0/10.png\")\n",
        "\n",
        "# Print the input shape of the image\n",
        "print(\"Input shape:\", image.shape)"
      ],
      "metadata": {
        "colab": {
          "base_uri": "https://localhost:8080/"
        },
        "id": "UDenGXzi9YOO",
        "outputId": "b25eec7e-bb25-40bf-8d88-41ac8177d628"
      },
      "execution_count": 10,
      "outputs": [
        {
          "output_type": "stream",
          "name": "stdout",
          "text": [
            "Input shape: (48, 48, 3)\n"
          ]
        }
      ]
    },
    {
      "cell_type": "code",
      "source": [
        "\n",
        "\n",
        "model = tf.keras.models.Sequential([\n",
        "    # Note the input shape is the desired size of the image 300x300 with 3 bytes color\n",
        "    # This is the first convolution\n",
        "    tf.keras.layers.Conv2D(32, (3,3), activation='relu', input_shape=(48, 48, 3)),\n",
        "    tf.keras.layers.MaxPooling2D(2, 2),\n",
        "    # The second convolution\n",
        "    tf.keras.layers.Conv2D(64, (3,3), activation='relu'),\n",
        "    tf.keras.layers.MaxPooling2D(2,2),\n",
        "    tf.keras.layers.Conv2D(64, (3,3), activation='relu'),\n",
        "    tf.keras.layers.MaxPooling2D(2,2),\n",
        "    # Flatten the results to feed into a DNN\n",
        "    tf.keras.layers.Flatten(),\n",
        "    # 512 neuron hidden layer\n",
        "    tf.keras.layers.Dense(512, activation='relu'),\n",
        "    # Only 1 output neuron. It will contain a value from 0-1 where 0 for 1 class ('horses') and 1 for the other ('humans')\n",
        "    tf.keras.layers.Dense(7, activation='softmax')\n",
        "])"
      ],
      "metadata": {
        "id": "VC8Te4Y35eB7"
      },
      "execution_count": 11,
      "outputs": []
    },
    {
      "cell_type": "code",
      "source": [
        "model.summary()"
      ],
      "metadata": {
        "colab": {
          "base_uri": "https://localhost:8080/"
        },
        "id": "Wm0BIIEG6ydw",
        "outputId": "a920ed47-2bb4-4515-a987-4cfcda432e51"
      },
      "execution_count": 12,
      "outputs": [
        {
          "output_type": "stream",
          "name": "stdout",
          "text": [
            "Model: \"sequential\"\n",
            "_________________________________________________________________\n",
            " Layer (type)                Output Shape              Param #   \n",
            "=================================================================\n",
            " conv2d (Conv2D)             (None, 46, 46, 32)        896       \n",
            "                                                                 \n",
            " max_pooling2d (MaxPooling2D  (None, 23, 23, 32)       0         \n",
            " )                                                               \n",
            "                                                                 \n",
            " conv2d_1 (Conv2D)           (None, 21, 21, 64)        18496     \n",
            "                                                                 \n",
            " max_pooling2d_1 (MaxPooling  (None, 10, 10, 64)       0         \n",
            " 2D)                                                             \n",
            "                                                                 \n",
            " conv2d_2 (Conv2D)           (None, 8, 8, 64)          36928     \n",
            "                                                                 \n",
            " max_pooling2d_2 (MaxPooling  (None, 4, 4, 64)         0         \n",
            " 2D)                                                             \n",
            "                                                                 \n",
            " flatten (Flatten)           (None, 1024)              0         \n",
            "                                                                 \n",
            " dense (Dense)               (None, 512)               524800    \n",
            "                                                                 \n",
            " dense_1 (Dense)             (None, 7)                 3591      \n",
            "                                                                 \n",
            "=================================================================\n",
            "Total params: 584,711\n",
            "Trainable params: 584,711\n",
            "Non-trainable params: 0\n",
            "_________________________________________________________________\n"
          ]
        }
      ]
    },
    {
      "cell_type": "code",
      "source": [
        "\n",
        "model.compile(loss=tf.keras.losses.CategoricalCrossentropy(),\n",
        "              optimizer=tf.keras.optimizers.Adam(learning_rate=1e-3),\n",
        "              metrics=['accuracy'])"
      ],
      "metadata": {
        "id": "zp1eX05S61NK"
      },
      "execution_count": 13,
      "outputs": []
    },
    {
      "cell_type": "code",
      "source": [
        "from tensorflow.keras.preprocessing.image import ImageDataGenerator\n",
        "\n",
        "\n",
        "# All images will be rescaled by 1./255\n",
        "train_datagen = ImageDataGenerator(rescale=1/255)\n",
        "validation_datagen = ImageDataGenerator(rescale=1/255)\n",
        "\n",
        "train_generator = train_datagen.flow_from_directory(\n",
        "        './facial-expression-dataset/data/train',  # This is the source directory for training images\n",
        "        target_size=(48, 48),  # All images will be resized to 300x300\n",
        "        batch_size=512,\n",
        "        # Since you use binary_crossentropy loss, you need binary labels\n",
        "        class_mode='categorical')\n",
        "validation_generator = validation_datagen.flow_from_directory(\n",
        "        './facial-expression-dataset/data/val',  # This is the source directory for validation images\n",
        "        target_size=(48, 48),  # All images will be resized to 300x300\n",
        "        batch_size=32,\n",
        "        # Since you use binary_crossentropy loss, you need binary labels\n",
        "        class_mode='categorical')\n"
      ],
      "metadata": {
        "colab": {
          "base_uri": "https://localhost:8080/"
        },
        "id": "Ldz_qNGk7ZBU",
        "outputId": "fccfa479-926f-4719-d22a-d18484e57509"
      },
      "execution_count": 14,
      "outputs": [
        {
          "output_type": "stream",
          "name": "stdout",
          "text": [
            "Found 28709 images belonging to 7 classes.\n",
            "Found 3589 images belonging to 7 classes.\n"
          ]
        }
      ]
    },
    {
      "cell_type": "code",
      "source": [
        "class myCallback(tf.keras.callbacks.Callback):\n",
        "    # Define the method that checks the accuracy at the end of each epoch\n",
        "    def on_epoch_end(self,epoch,logs={}):\n",
        "        if(logs.get('accuracy') is not None and logs.get('accuracy') > 0.995):\n",
        "            print(\"\\nThe Accuracy has reached 99.5 %,so cancelling training\")\n",
        "            self.model.stop_training = True\n",
        "\n",
        "        pass\n"
      ],
      "metadata": {
        "id": "7kdh-xJNCgPY"
      },
      "execution_count": 15,
      "outputs": []
    },
    {
      "cell_type": "code",
      "source": [
        "callbacks = myCallback()\n",
        "\n",
        "history = model.fit(\n",
        "      train_generator,\n",
        "      steps_per_epoch=56,\n",
        "      epochs=15,\n",
        "      callbacks=[callbacks],\n",
        "      validation_data = validation_generator,\n",
        "      validation_steps=30\n",
        "      )"
      ],
      "metadata": {
        "colab": {
          "base_uri": "https://localhost:8080/"
        },
        "id": "mdbagw9g8uBp",
        "outputId": "0f46bf96-359e-463f-f1bb-75f464bf2cf0"
      },
      "execution_count": 16,
      "outputs": [
        {
          "output_type": "stream",
          "name": "stdout",
          "text": [
            "Epoch 1/15\n",
            "56/56 [==============================] - 128s 2s/step - loss: 1.7675 - accuracy: 0.2808 - val_loss: 1.6527 - val_accuracy: 0.3656\n",
            "Epoch 2/15\n",
            "56/56 [==============================] - 126s 2s/step - loss: 1.5458 - accuracy: 0.4075 - val_loss: 1.4754 - val_accuracy: 0.4365\n",
            "Epoch 3/15\n",
            "56/56 [==============================] - 126s 2s/step - loss: 1.4298 - accuracy: 0.4559 - val_loss: 1.3960 - val_accuracy: 0.4677\n",
            "Epoch 4/15\n",
            "56/56 [==============================] - 123s 2s/step - loss: 1.3540 - accuracy: 0.4884 - val_loss: 1.3036 - val_accuracy: 0.5198\n",
            "Epoch 5/15\n",
            "56/56 [==============================] - 133s 2s/step - loss: 1.2882 - accuracy: 0.5170 - val_loss: 1.2642 - val_accuracy: 0.5271\n",
            "Epoch 6/15\n",
            "56/56 [==============================] - 124s 2s/step - loss: 1.2492 - accuracy: 0.5298 - val_loss: 1.2753 - val_accuracy: 0.5198\n",
            "Epoch 7/15\n",
            "56/56 [==============================] - 125s 2s/step - loss: 1.1988 - accuracy: 0.5517 - val_loss: 1.2931 - val_accuracy: 0.5073\n",
            "Epoch 8/15\n",
            "56/56 [==============================] - 125s 2s/step - loss: 1.1536 - accuracy: 0.5683 - val_loss: 1.1832 - val_accuracy: 0.5448\n",
            "Epoch 9/15\n",
            "56/56 [==============================] - 125s 2s/step - loss: 1.1164 - accuracy: 0.5818 - val_loss: 1.2036 - val_accuracy: 0.5406\n",
            "Epoch 10/15\n",
            "56/56 [==============================] - 126s 2s/step - loss: 1.0702 - accuracy: 0.6031 - val_loss: 1.2361 - val_accuracy: 0.5208\n",
            "Epoch 11/15\n",
            "56/56 [==============================] - 127s 2s/step - loss: 1.0311 - accuracy: 0.6186 - val_loss: 1.2706 - val_accuracy: 0.5292\n",
            "Epoch 12/15\n",
            "56/56 [==============================] - 125s 2s/step - loss: 1.0096 - accuracy: 0.6252 - val_loss: 1.2398 - val_accuracy: 0.5406\n",
            "Epoch 13/15\n",
            "56/56 [==============================] - 125s 2s/step - loss: 0.9603 - accuracy: 0.6468 - val_loss: 1.1850 - val_accuracy: 0.5615\n",
            "Epoch 14/15\n",
            "56/56 [==============================] - 127s 2s/step - loss: 0.9131 - accuracy: 0.6657 - val_loss: 1.1214 - val_accuracy: 0.5813\n",
            "Epoch 15/15\n",
            "56/56 [==============================] - 127s 2s/step - loss: 0.8755 - accuracy: 0.6800 - val_loss: 1.1880 - val_accuracy: 0.5667\n"
          ]
        }
      ]
    },
    {
      "cell_type": "code",
      "source": [
        "import numpy as np\n",
        "from google.colab import files\n",
        "from tensorflow.keras.utils import load_img, img_to_array\n",
        "\n",
        "uploaded = files.upload()\n",
        "\n",
        "for fn in uploaded.keys():\n",
        "\n",
        "  # predicting images\n",
        "  path = '/content/' + fn\n",
        "  image_name = os.path.basename(path)\n",
        "  img = load_img(path, target_size=(48, 48))\n",
        "  x = img_to_array(img)\n",
        "  x /= 255\n",
        "  x = np.expand_dims(x, axis=0)\n",
        "\n",
        "  images = np.vstack([x])\n",
        "  classes = model.predict(images, batch_size=10)\n",
        "  print(f\"Name of image : {image_name}\\n\")\n",
        "  print(f\"Predicted class is : {np.argmax(classes)} and  {np.max(classes) * 100}% \\n\")"
      ],
      "metadata": {
        "colab": {
          "base_uri": "https://localhost:8080/",
          "height": 767
        },
        "id": "3jNUwunLQNzl",
        "outputId": "bb9e6bda-12d8-45a9-b89c-4bd2c6019b81"
      },
      "execution_count": 18,
      "outputs": [
        {
          "output_type": "display_data",
          "data": {
            "text/plain": [
              "<IPython.core.display.HTML object>"
            ],
            "text/html": [
              "\n",
              "     <input type=\"file\" id=\"files-dbfa2cfe-7317-4fb4-9c84-d61c01ac0143\" name=\"files[]\" multiple disabled\n",
              "        style=\"border:none\" />\n",
              "     <output id=\"result-dbfa2cfe-7317-4fb4-9c84-d61c01ac0143\">\n",
              "      Upload widget is only available when the cell has been executed in the\n",
              "      current browser session. Please rerun this cell to enable.\n",
              "      </output>\n",
              "      <script>// Copyright 2017 Google LLC\n",
              "//\n",
              "// Licensed under the Apache License, Version 2.0 (the \"License\");\n",
              "// you may not use this file except in compliance with the License.\n",
              "// You may obtain a copy of the License at\n",
              "//\n",
              "//      http://www.apache.org/licenses/LICENSE-2.0\n",
              "//\n",
              "// Unless required by applicable law or agreed to in writing, software\n",
              "// distributed under the License is distributed on an \"AS IS\" BASIS,\n",
              "// WITHOUT WARRANTIES OR CONDITIONS OF ANY KIND, either express or implied.\n",
              "// See the License for the specific language governing permissions and\n",
              "// limitations under the License.\n",
              "\n",
              "/**\n",
              " * @fileoverview Helpers for google.colab Python module.\n",
              " */\n",
              "(function(scope) {\n",
              "function span(text, styleAttributes = {}) {\n",
              "  const element = document.createElement('span');\n",
              "  element.textContent = text;\n",
              "  for (const key of Object.keys(styleAttributes)) {\n",
              "    element.style[key] = styleAttributes[key];\n",
              "  }\n",
              "  return element;\n",
              "}\n",
              "\n",
              "// Max number of bytes which will be uploaded at a time.\n",
              "const MAX_PAYLOAD_SIZE = 100 * 1024;\n",
              "\n",
              "function _uploadFiles(inputId, outputId) {\n",
              "  const steps = uploadFilesStep(inputId, outputId);\n",
              "  const outputElement = document.getElementById(outputId);\n",
              "  // Cache steps on the outputElement to make it available for the next call\n",
              "  // to uploadFilesContinue from Python.\n",
              "  outputElement.steps = steps;\n",
              "\n",
              "  return _uploadFilesContinue(outputId);\n",
              "}\n",
              "\n",
              "// This is roughly an async generator (not supported in the browser yet),\n",
              "// where there are multiple asynchronous steps and the Python side is going\n",
              "// to poll for completion of each step.\n",
              "// This uses a Promise to block the python side on completion of each step,\n",
              "// then passes the result of the previous step as the input to the next step.\n",
              "function _uploadFilesContinue(outputId) {\n",
              "  const outputElement = document.getElementById(outputId);\n",
              "  const steps = outputElement.steps;\n",
              "\n",
              "  const next = steps.next(outputElement.lastPromiseValue);\n",
              "  return Promise.resolve(next.value.promise).then((value) => {\n",
              "    // Cache the last promise value to make it available to the next\n",
              "    // step of the generator.\n",
              "    outputElement.lastPromiseValue = value;\n",
              "    return next.value.response;\n",
              "  });\n",
              "}\n",
              "\n",
              "/**\n",
              " * Generator function which is called between each async step of the upload\n",
              " * process.\n",
              " * @param {string} inputId Element ID of the input file picker element.\n",
              " * @param {string} outputId Element ID of the output display.\n",
              " * @return {!Iterable<!Object>} Iterable of next steps.\n",
              " */\n",
              "function* uploadFilesStep(inputId, outputId) {\n",
              "  const inputElement = document.getElementById(inputId);\n",
              "  inputElement.disabled = false;\n",
              "\n",
              "  const outputElement = document.getElementById(outputId);\n",
              "  outputElement.innerHTML = '';\n",
              "\n",
              "  const pickedPromise = new Promise((resolve) => {\n",
              "    inputElement.addEventListener('change', (e) => {\n",
              "      resolve(e.target.files);\n",
              "    });\n",
              "  });\n",
              "\n",
              "  const cancel = document.createElement('button');\n",
              "  inputElement.parentElement.appendChild(cancel);\n",
              "  cancel.textContent = 'Cancel upload';\n",
              "  const cancelPromise = new Promise((resolve) => {\n",
              "    cancel.onclick = () => {\n",
              "      resolve(null);\n",
              "    };\n",
              "  });\n",
              "\n",
              "  // Wait for the user to pick the files.\n",
              "  const files = yield {\n",
              "    promise: Promise.race([pickedPromise, cancelPromise]),\n",
              "    response: {\n",
              "      action: 'starting',\n",
              "    }\n",
              "  };\n",
              "\n",
              "  cancel.remove();\n",
              "\n",
              "  // Disable the input element since further picks are not allowed.\n",
              "  inputElement.disabled = true;\n",
              "\n",
              "  if (!files) {\n",
              "    return {\n",
              "      response: {\n",
              "        action: 'complete',\n",
              "      }\n",
              "    };\n",
              "  }\n",
              "\n",
              "  for (const file of files) {\n",
              "    const li = document.createElement('li');\n",
              "    li.append(span(file.name, {fontWeight: 'bold'}));\n",
              "    li.append(span(\n",
              "        `(${file.type || 'n/a'}) - ${file.size} bytes, ` +\n",
              "        `last modified: ${\n",
              "            file.lastModifiedDate ? file.lastModifiedDate.toLocaleDateString() :\n",
              "                                    'n/a'} - `));\n",
              "    const percent = span('0% done');\n",
              "    li.appendChild(percent);\n",
              "\n",
              "    outputElement.appendChild(li);\n",
              "\n",
              "    const fileDataPromise = new Promise((resolve) => {\n",
              "      const reader = new FileReader();\n",
              "      reader.onload = (e) => {\n",
              "        resolve(e.target.result);\n",
              "      };\n",
              "      reader.readAsArrayBuffer(file);\n",
              "    });\n",
              "    // Wait for the data to be ready.\n",
              "    let fileData = yield {\n",
              "      promise: fileDataPromise,\n",
              "      response: {\n",
              "        action: 'continue',\n",
              "      }\n",
              "    };\n",
              "\n",
              "    // Use a chunked sending to avoid message size limits. See b/62115660.\n",
              "    let position = 0;\n",
              "    do {\n",
              "      const length = Math.min(fileData.byteLength - position, MAX_PAYLOAD_SIZE);\n",
              "      const chunk = new Uint8Array(fileData, position, length);\n",
              "      position += length;\n",
              "\n",
              "      const base64 = btoa(String.fromCharCode.apply(null, chunk));\n",
              "      yield {\n",
              "        response: {\n",
              "          action: 'append',\n",
              "          file: file.name,\n",
              "          data: base64,\n",
              "        },\n",
              "      };\n",
              "\n",
              "      let percentDone = fileData.byteLength === 0 ?\n",
              "          100 :\n",
              "          Math.round((position / fileData.byteLength) * 100);\n",
              "      percent.textContent = `${percentDone}% done`;\n",
              "\n",
              "    } while (position < fileData.byteLength);\n",
              "  }\n",
              "\n",
              "  // All done.\n",
              "  yield {\n",
              "    response: {\n",
              "      action: 'complete',\n",
              "    }\n",
              "  };\n",
              "}\n",
              "\n",
              "scope.google = scope.google || {};\n",
              "scope.google.colab = scope.google.colab || {};\n",
              "scope.google.colab._files = {\n",
              "  _uploadFiles,\n",
              "  _uploadFilesContinue,\n",
              "};\n",
              "})(self);\n",
              "</script> "
            ]
          },
          "metadata": {}
        },
        {
          "output_type": "stream",
          "name": "stdout",
          "text": [
            "Saving angry.jpeg to angry.jpeg\n",
            "Saving angry2.jpeg to angry2.jpeg\n",
            "Saving happy.jpeg to happy (12).jpeg\n",
            "Saving happy2.jpeg to happy2 (4).jpeg\n",
            "Saving sad.jpeg to sad (4).jpeg\n",
            "Saving sad2.jpeg to sad2 (4).jpeg\n",
            "1/1 [==============================] - 0s 27ms/step\n",
            "Name of image : angry.jpeg\n",
            "\n",
            "Predicted class is : 4 and  43.34629476070404% \n",
            "\n",
            "1/1 [==============================] - 0s 25ms/step\n",
            "Name of image : angry2.jpeg\n",
            "\n",
            "Predicted class is : 3 and  73.99238348007202% \n",
            "\n",
            "1/1 [==============================] - 0s 26ms/step\n",
            "Name of image : happy (12).jpeg\n",
            "\n",
            "Predicted class is : 3 and  30.293476581573486% \n",
            "\n",
            "1/1 [==============================] - 0s 29ms/step\n",
            "Name of image : happy2 (4).jpeg\n",
            "\n",
            "Predicted class is : 3 and  96.5560257434845% \n",
            "\n",
            "1/1 [==============================] - 0s 29ms/step\n",
            "Name of image : sad (4).jpeg\n",
            "\n",
            "Predicted class is : 5 and  52.149540185928345% \n",
            "\n",
            "1/1 [==============================] - 0s 27ms/step\n",
            "Name of image : sad2 (4).jpeg\n",
            "\n",
            "Predicted class is : 4 and  56.94786310195923% \n",
            "\n"
          ]
        }
      ]
    },
    {
      "cell_type": "code",
      "source": [],
      "metadata": {
        "id": "-2-rpHfWRszl"
      },
      "execution_count": null,
      "outputs": []
    }
  ]
}